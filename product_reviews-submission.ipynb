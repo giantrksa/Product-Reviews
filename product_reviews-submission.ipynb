{
 "cells": [
  {
   "cell_type": "code",
   "execution_count": 1,
   "id": "dbf92187",
   "metadata": {
    "ExecuteTime": {
     "end_time": "2023-05-08T14:21:07.332612Z",
     "start_time": "2023-05-08T14:21:07.210282Z"
    }
   },
   "outputs": [],
   "source": [
    "import os\n",
    "import openai\n",
    "os.environ['CUDA_VISIBLE_DEVICES'] = '00'\n",
    "os.environ['CUDA_LAUNCH_BLOCKING'] = '00'\n",
    "os.environ['HUGGINGFACEHUB_API_TOKEN'] = '00'\n",
    "os.environ[\"OPENAI_API_KEY\"] = \"00\"  \n",
    "openai.api_key = \"00\""
   ]
  },
  {
   "cell_type": "code",
   "execution_count": 2,
   "id": "e480a8c6",
   "metadata": {
    "ExecuteTime": {
     "end_time": "2023-05-08T14:21:10.180968Z",
     "start_time": "2023-05-08T14:21:07.791912Z"
    }
   },
   "outputs": [
    {
     "name": "stderr",
     "output_type": "stream",
     "text": [
      "/workspace/JupyterLab (DATA)/NLP_GPT/nlp_gpt/lib/python3.8/site-packages/pinecone/index.py:4: TqdmWarning: IProgress not found. Please update jupyter and ipywidgets. See https://ipywidgets.readthedocs.io/en/stable/user_install.html\n",
      "  from tqdm.autonotebook import tqdm\n"
     ]
    }
   ],
   "source": [
    "from langchain.document_loaders import DirectoryLoader\n",
    "from langchain.text_splitter import RecursiveCharacterTextSplitter\n",
    "from langchain.embeddings import HuggingFaceEmbeddings\n",
    "import pinecone \n",
    "from langchain.vectorstores import Pinecone\n",
    "from langchain.llms import OpenAI\n",
    "from langchain.chains.question_answering import load_qa_chain\n",
    "from langchain import PromptTemplate, HuggingFaceHub, LLMChain\n",
    "from llama_index import LLMPredictor"
   ]
  },
  {
   "cell_type": "markdown",
   "id": "a5201c9b",
   "metadata": {},
   "source": [
    "# Import Data"
   ]
  },
  {
   "cell_type": "code",
   "execution_count": 3,
   "id": "2a8f5b81",
   "metadata": {
    "ExecuteTime": {
     "end_time": "2023-05-08T14:21:46.818162Z",
     "start_time": "2023-05-08T14:21:10.183400Z"
    }
   },
   "outputs": [
    {
     "data": {
      "text/plain": [
       "1"
      ]
     },
     "execution_count": 3,
     "metadata": {},
     "output_type": "execute_result"
    }
   ],
   "source": [
    "directory = 'data/'\n",
    "\n",
    "def load_docs(directory):\n",
    "    loader = DirectoryLoader(directory)\n",
    "    documents = loader.load()\n",
    "    return documents\n",
    "\n",
    "documents = load_docs(directory)\n",
    "len(documents)"
   ]
  },
  {
   "cell_type": "markdown",
   "id": "fed3e541",
   "metadata": {},
   "source": [
    "# Text Splitter"
   ]
  },
  {
   "cell_type": "code",
   "execution_count": 4,
   "id": "1266361c",
   "metadata": {
    "ExecuteTime": {
     "end_time": "2023-05-08T14:21:46.826486Z",
     "start_time": "2023-05-08T14:21:46.820915Z"
    }
   },
   "outputs": [
    {
     "name": "stdout",
     "output_type": "stream",
     "text": [
      "22\n"
     ]
    }
   ],
   "source": [
    "def split_docs(documents,chunk_size=1000,chunk_overlap=20):\n",
    "    text_splitter = RecursiveCharacterTextSplitter(chunk_size=chunk_size, chunk_overlap=chunk_overlap)\n",
    "    docs = text_splitter.split_documents(documents)\n",
    "    return docs\n",
    "\n",
    "docs = split_docs(documents)\n",
    "print(len(docs))"
   ]
  },
  {
   "cell_type": "markdown",
   "id": "bb8bb399",
   "metadata": {},
   "source": [
    "# Words Embedding"
   ]
  },
  {
   "cell_type": "code",
   "execution_count": 5,
   "id": "b2d44f44",
   "metadata": {
    "ExecuteTime": {
     "end_time": "2023-05-08T14:21:48.436822Z",
     "start_time": "2023-05-08T14:21:46.829029Z"
    }
   },
   "outputs": [
    {
     "data": {
      "text/plain": [
       "768"
      ]
     },
     "execution_count": 5,
     "metadata": {},
     "output_type": "execute_result"
    }
   ],
   "source": [
    "embeddings = HuggingFaceEmbeddings()\n",
    "\n",
    "query_result = embeddings.embed_query(\"Hello world\")\n",
    "len(query_result)"
   ]
  },
  {
   "cell_type": "markdown",
   "id": "c05b1a52",
   "metadata": {},
   "source": [
    "# Using Pincone"
   ]
  },
  {
   "cell_type": "code",
   "execution_count": 21,
   "id": "b52ee872",
   "metadata": {
    "ExecuteTime": {
     "end_time": "2023-05-08T14:36:00.819596Z",
     "start_time": "2023-05-08T14:35:56.557387Z"
    }
   },
   "outputs": [],
   "source": [
    "pinecone.init(\n",
    "    api_key=\"5deaf73e-7868-4138-a662-72738d095818\",  # find at app.pinecone.io\n",
    "    environment=\"northamerica-northeast1-gcp\"  # next to api key in console\n",
    ")\n",
    "\n",
    "index_name = \"langchain-demo\"\n",
    "\n",
    "index = Pinecone.from_documents(docs, embeddings, index_name=index_name)"
   ]
  },
  {
   "cell_type": "markdown",
   "id": "dcd938ec",
   "metadata": {},
   "source": [
    "# Text Similarity"
   ]
  },
  {
   "cell_type": "code",
   "execution_count": 19,
   "id": "482acfff",
   "metadata": {
    "ExecuteTime": {
     "end_time": "2023-05-08T14:31:01.269563Z",
     "start_time": "2023-05-08T14:31:01.038516Z"
    }
   },
   "outputs": [
    {
     "data": {
      "text/plain": [
       "[(Document(page_content='77.6 mm Height: (3.05 160.7 mm (6.33 inches) Depth: 7.85 mm\\n\\nHeight: (2.81 147.5 mm (5.81 inches) Depth: 7.85 mm\\n\\n\\n\\n\\n\\nThe iPhone 14 Pro display has rounded corners that follow a beautiful curved design, and these corners are within a standard rectangle. When measured as a standard rectangular shape, the screen is 15.54 centimetres / 6.12 inches diagonally (actual viewable area is less).\\n\\nThe iPhone 14 Pro Max display has rounded corners that follow a beautiful curved design, and these corners are within a standard rectangle. When measured as a standard rectangular shape, the screen is 17.00 centimetres / 6.69 inches diagonally (actual viewable area is less).\\n\\nSupport for display of multiple languages and characters simultaneously\\n\\nRated IP68 (maximum depth of 6 metres up to 30 minutes) under IEC standard 60529\\n\\nPro camera system\\n\\nMain: 24 mm, ƒ/1.78 aperture, second-generation sensor-shift optical image stabilisation, lens, 100% Focus Pixels', metadata={'source': 'data/ip14.pdf'}),\n",
       "  0.658436775),\n",
       " (Document(page_content='77.6 mm Height: (3.05 160.7 mm (6.33 inches) Depth: 7.85 mm\\n\\nHeight: (2.81 147.5 mm (5.81 inches) Depth: 7.85 mm\\n\\n\\n\\n\\n\\nThe iPhone 14 Pro display has rounded corners that follow a beautiful curved design, and these corners are within a standard rectangle. When measured as a standard rectangular shape, the screen is 15.54 centimetres / 6.12 inches diagonally (actual viewable area is less).\\n\\nThe iPhone 14 Pro Max display has rounded corners that follow a beautiful curved design, and these corners are within a standard rectangle. When measured as a standard rectangular shape, the screen is 17.00 centimetres / 6.69 inches diagonally (actual viewable area is less).\\n\\nSupport for display of multiple languages and characters simultaneously\\n\\nRated IP68 (maximum depth of 6 metres up to 30 minutes) under IEC standard 60529\\n\\nPro camera system\\n\\nMain: 24 mm, ƒ/1.78 aperture, second-generation sensor-shift optical image stabilisation, lens, 100% Focus Pixels', metadata={'source': '/workspace/JupyterLab (DATA)/NLP_GPT/development/data/ip14.pdf'}),\n",
       "  0.658436775),\n",
       " (Document(page_content='77.6 mm Height: (3.05 160.7 mm (6.33 inches) Depth: 7.85 mm\\n\\nHeight: (2.81 147.5 mm (5.81 inches) Depth: 7.85 mm\\n\\n\\n\\n\\n\\nThe iPhone 14 Pro display has rounded corners that follow a beautiful curved design, and these corners are within a standard rectangle. When measured as a standard rectangular shape, the screen is 15.54 centimetres / 6.12 inches diagonally (actual viewable area is less).\\n\\nThe iPhone 14 Pro Max display has rounded corners that follow a beautiful curved design, and these corners are within a standard rectangle. When measured as a standard rectangular shape, the screen is 17.00 centimetres / 6.69 inches diagonally (actual viewable area is less).\\n\\nSupport for display of multiple languages and characters simultaneously\\n\\nRated IP68 (maximum depth of 6 metres up to 30 minutes) under IEC standard 60529\\n\\nPro camera system\\n\\nMain: 24 mm, ƒ/1.78 aperture, second-generation sensor-shift optical image stabilisation, lens, 100% Focus Pixels', metadata={'source': '/workspace/JupyterLab (DATA)/NLP_GPT/development/data/ip14.pdf'}),\n",
       "  0.658436775)]"
      ]
     },
     "execution_count": 19,
     "metadata": {},
     "output_type": "execute_result"
    }
   ],
   "source": [
    "def get_similiar_docs(query,k=3,score=False):\n",
    "    if score:\n",
    "        similar_docs = index.similarity_search_with_score(query,k=k)\n",
    "    else:\n",
    "        similar_docs = index.similarity_search(query,k=k)\n",
    "    return similar_docs\n",
    "\n",
    "query = \"What is specification of Iphone 14?\"\n",
    "similar_docs = get_similiar_docs(query, score=True)\n",
    "similar_docs"
   ]
  },
  {
   "cell_type": "markdown",
   "id": "7e814699",
   "metadata": {},
   "source": [
    "# Build LLM"
   ]
  },
  {
   "cell_type": "code",
   "execution_count": 8,
   "id": "bf959d16",
   "metadata": {
    "ExecuteTime": {
     "end_time": "2023-05-08T14:21:53.089056Z",
     "start_time": "2023-05-08T14:21:53.084078Z"
    }
   },
   "outputs": [],
   "source": [
    "model_name = \"text-davinci-003\"\n",
    "llm = OpenAI(model_name=model_name)"
   ]
  },
  {
   "cell_type": "code",
   "execution_count": 9,
   "id": "d86c75c3",
   "metadata": {
    "ExecuteTime": {
     "end_time": "2023-05-08T14:21:53.098016Z",
     "start_time": "2023-05-08T14:21:53.091412Z"
    }
   },
   "outputs": [],
   "source": [
    "template = \"\"\"Question: {question}\n",
    "\n",
    "Answer: Let's think step by step.\"\"\"\n",
    "prompt = PromptTemplate(template=template, input_variables=[\"question\"])"
   ]
  },
  {
   "cell_type": "code",
   "execution_count": 10,
   "id": "9b5ca357",
   "metadata": {
    "ExecuteTime": {
     "end_time": "2023-05-08T14:21:53.108780Z",
     "start_time": "2023-05-08T14:21:53.102637Z"
    }
   },
   "outputs": [],
   "source": [
    "chain = load_qa_chain(llm, chain_type=\"stuff\")\n",
    "\n",
    "def get_answer(query):\n",
    "    similar_docs = get_similiar_docs(query)\n",
    "    answer =  chain.run(input_documents=similar_docs, question=query)\n",
    "    return  answer"
   ]
  },
  {
   "cell_type": "code",
   "execution_count": 11,
   "id": "e96721be",
   "metadata": {
    "ExecuteTime": {
     "end_time": "2023-05-08T14:22:01.038316Z",
     "start_time": "2023-05-08T14:21:53.112113Z"
    }
   },
   "outputs": [
    {
     "data": {
      "text/plain": [
       "' Yes, iPhone 14 Pro and iPhone 14 Pro Max are splash, water and dust resistant, and were tested under controlled laboratory conditions with a rating of IP68 under IEC 60529 (maximum depth of 6 metres up to 30 minutes).'"
      ]
     },
     "execution_count": 11,
     "metadata": {},
     "output_type": "execute_result"
    }
   ],
   "source": [
    "query = \"is iPhone 14 Pro and iPhone 14 Pro Max are splash, water and dust resistant?\"  \n",
    "get_answer(query)"
   ]
  },
  {
   "cell_type": "code",
   "execution_count": 12,
   "id": "a75a461b",
   "metadata": {
    "ExecuteTime": {
     "end_time": "2023-05-08T14:22:08.519244Z",
     "start_time": "2023-05-08T14:22:01.042064Z"
    }
   },
   "outputs": [
    {
     "name": "stdout",
     "output_type": "stream",
     "text": [
      " Yes, iPhone 14 Pro and iPhone 14 Pro Max are splash, water and dust resistant and were tested under controlled laboratory conditions with a rating of IP68 under IEC 60529 (maximum depth of 6 metres up to 30 minutes). However, resistance might decrease as a result of normal wear and liquid damage is not covered under warranty.\n"
     ]
    }
   ],
   "source": [
    "print(get_answer(query))"
   ]
  },
  {
   "cell_type": "code",
   "execution_count": null,
   "id": "230e9b8d",
   "metadata": {},
   "outputs": [],
   "source": []
  }
 ],
 "metadata": {
  "kernelspec": {
   "display_name": "nlp_gpt",
   "language": "python",
   "name": "nlp_gpt"
  },
  "language_info": {
   "codemirror_mode": {
    "name": "ipython",
    "version": 3
   },
   "file_extension": ".py",
   "mimetype": "text/x-python",
   "name": "python",
   "nbconvert_exporter": "python",
   "pygments_lexer": "ipython3",
   "version": "3.8.10"
  },
  "toc": {
   "base_numbering": 1,
   "nav_menu": {},
   "number_sections": false,
   "sideBar": true,
   "skip_h1_title": false,
   "title_cell": "Table of Contents",
   "title_sidebar": "Contents",
   "toc_cell": false,
   "toc_position": {},
   "toc_section_display": true,
   "toc_window_display": false
  }
 },
 "nbformat": 4,
 "nbformat_minor": 5
}
